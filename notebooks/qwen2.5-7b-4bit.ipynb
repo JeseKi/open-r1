{
 "cells": [
  {
   "cell_type": "code",
   "execution_count": null,
   "id": "270b7554",
   "metadata": {},
   "outputs": [],
   "source": [
    "from pathlib import Path\n",
    "\n",
    "repo_path = Path(\"open-r1\")\n",
    "\n",
    "if repo_path.exists() and repo_path.is_dir():\n",
    "    print(f\"✅ 路径 {repo_path} 存在，正在拉取更新喵~\")\n",
    "    !cd open-r1 && git pull\n",
    "else:\n",
    "    print(f\"❌ 路径 {repo_path} 不存在或不是文件夹，进行 clone 喵~ (´•ω•`)\")\n",
    "    !git clone https://github.com/JeseKi/open-r1.git && pip install uv"
   ]
  },
  {
   "cell_type": "code",
   "execution_count": null,
   "id": "4b3b8881",
   "metadata": {},
   "outputs": [],
   "source": [
    "!cd open-r1 && uv pip install -e . --quiet"
   ]
  },
  {
   "cell_type": "code",
   "execution_count": null,
   "id": "fde1f232",
   "metadata": {},
   "outputs": [],
   "source": [
    "from kaggle_secrets import UserSecretsClient\n",
    "user_secrets = UserSecretsClient()\n",
    "hf_token = user_secrets.get_secret(\"HF_TOKEN\")\n",
    "wandb_token = user_secrets.get_secret(\"WANDB_API_KEY\")\n",
    "if not hf_token:\n",
    "    raise ValueError(\"HF Token 不能为空！\")\n",
    "else:\n",
    "    print(\"环境变量已正常填写\")\n",
    "if not wandb_token:\n",
    "    import os\n",
    "    os.environ[\"WANDB_DISABLED\"] = \"true\"\n",
    "    print(\"WANDB 已禁用\")"
   ]
  },
  {
   "cell_type": "code",
   "execution_count": null,
   "id": "d775221a",
   "metadata": {},
   "outputs": [],
   "source": [
    "!cd open-r1 && accelerate launch \\\n",
    "    --multi_gpu \\\n",
    "    --num_processes=2 \\\n",
    "    src/open_r1/sft.py \\\n",
    "    --config recipes/Qwen2.5-7B-Instruct/sft/config_kaggle_4bit_pretokenized.yaml"
   ]
  }
 ],
 "metadata": {
  "kernelspec": {
   "display_name": "Python 3 (ipykernel)",
   "language": "python",
   "name": "python3"
  }
 },
 "nbformat": 4,
 "nbformat_minor": 5
}
